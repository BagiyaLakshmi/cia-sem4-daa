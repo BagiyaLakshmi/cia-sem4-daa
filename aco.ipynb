{
 "cells": [
  {
   "cell_type": "code",
   "execution_count": 2,
   "id": "cc0bf1b0-4aff-4478-bb7e-1204951ae21d",
   "metadata": {},
   "outputs": [],
   "source": [
    "'''\n",
    "Created on : April 5\n",
    "\n",
    "source : ReferencePaperForACO.pdf\n",
    "\n",
    "'''"
   ]
  },
  {
   "cell_type": "code",
   "execution_count": null,
   "id": "028f5b56-2e7d-4de6-a628-d861f875fe45",
   "metadata": {},
   "outputs": [],
   "source": [
    "import pandas as pd\n",
    "from sklearn.model_selection import train_test_split\n",
    "\n",
    "df = pd.read_csv('Bank_Personal_Loan_Modelling.csv')\n",
    "\n",
    "X = df.drop('Personal Loan', axis=1)\n",
    "y = df['Personal Loan']\n",
    "\n",
    "X_train, X_test, y_train, y_test = train_test_split(X, y, test_size=0.2, random_state=42)\n"
   ]
  },
  {
   "cell_type": "code",
   "execution_count": 3,
   "id": "458afd0a-7fa2-4196-bccc-2fc70e55adba",
   "metadata": {},
   "outputs": [
    {
     "name": "stderr",
     "output_type": "stream",
     "text": [
      "2023-04-05 09:36:21.095700: I tensorflow/core/platform/cpu_feature_guard.cc:193] This TensorFlow binary is optimized with oneAPI Deep Neural Network Library (oneDNN) to use the following CPU instructions in performance-critical operations:  AVX2 AVX512F AVX512_VNNI FMA\n",
      "To enable them in other operations, rebuild TensorFlow with the appropriate compiler flags.\n",
      "2023-04-05 09:36:21.785657: I tensorflow/core/util/port.cc:104] oneDNN custom operations are on. You may see slightly different numerical results due to floating-point round-off errors from different computation orders. To turn them off, set the environment variable `TF_ENABLE_ONEDNN_OPTS=0`.\n",
      "2023-04-05 09:36:21.843989: W tensorflow/compiler/xla/stream_executor/platform/default/dso_loader.cc:64] Could not load dynamic library 'libcudart.so.11.0'; dlerror: libcudart.so.11.0: cannot open shared object file: No such file or directory\n",
      "2023-04-05 09:36:21.844012: I tensorflow/compiler/xla/stream_executor/cuda/cudart_stub.cc:29] Ignore above cudart dlerror if you do not have a GPU set up on your machine.\n",
      "2023-04-05 09:36:23.441412: W tensorflow/compiler/xla/stream_executor/platform/default/dso_loader.cc:64] Could not load dynamic library 'libnvinfer.so.7'; dlerror: libnvinfer.so.7: cannot open shared object file: No such file or directory\n",
      "2023-04-05 09:36:23.441504: W tensorflow/compiler/xla/stream_executor/platform/default/dso_loader.cc:64] Could not load dynamic library 'libnvinfer_plugin.so.7'; dlerror: libnvinfer_plugin.so.7: cannot open shared object file: No such file or directory\n",
      "2023-04-05 09:36:23.441510: W tensorflow/compiler/tf2tensorrt/utils/py_utils.cc:38] TF-TRT Warning: Cannot dlopen some TensorRT libraries. If you would like to use Nvidia GPU with TensorRT, please make sure the missing libraries mentioned above are installed properly.\n",
      "2023-04-05 09:36:24.795077: W tensorflow/compiler/xla/stream_executor/platform/default/dso_loader.cc:64] Could not load dynamic library 'libcuda.so.1'; dlerror: libcuda.so.1: cannot open shared object file: No such file or directory\n",
      "2023-04-05 09:36:24.795327: W tensorflow/compiler/xla/stream_executor/cuda/cuda_driver.cc:265] failed call to cuInit: UNKNOWN ERROR (303)\n",
      "2023-04-05 09:36:24.795352: I tensorflow/compiler/xla/stream_executor/cuda/cuda_diagnostics.cc:156] kernel driver does not appear to be running on this host (bagiya-hp-laptop-14s-cf3xxx): /proc/driver/nvidia/version does not exist\n",
      "2023-04-05 09:36:24.796182: I tensorflow/core/platform/cpu_feature_guard.cc:193] This TensorFlow binary is optimized with oneAPI Deep Neural Network Library (oneDNN) to use the following CPU instructions in performance-critical operations:  AVX2 AVX512F AVX512_VNNI FMA\n",
      "To enable them in other operations, rebuild TensorFlow with the appropriate compiler flags.\n"
     ]
    }
   ],
   "source": [
    "from keras.models import Sequential\n",
    "from keras.layers import Dense\n",
    "\n",
    "model = Sequential()\n",
    "model.add(Dense(32, input_dim=12, activation='relu'))\n",
    "model.add(Dense(16, activation='relu'))\n",
    "model.add(Dense(1, activation='sigmoid'))\n"
   ]
  },
  {
   "cell_type": "code",
   "execution_count": null,
   "id": "57d018ab-6c70-485d-9216-26953d88e0e3",
   "metadata": {},
   "outputs": [],
   "source": [
    "from sklearn.metrics import accuracy_score\n",
    "from sklearn.preprocessing import StandardScaler\n",
    "import numpy as np\n",
    "\n",
    "scaler = StandardScaler()\n",
    "X_train_norm = scaler.fit_transform(X_train)\n",
    "X_test_norm = scaler.transform(X_test)\n",
    "\n",
    "n_ants = 50\n",
    "n_iterations = 100\n",
    "alpha = 1\n",
    "beta = 1\n",
    "rho = 0.1\n",
    "\n",
    "pheromone = np.random.uniform(low=-1, high=1, size=model.get_weights().__len__())\n",
    "\n",
    "for i in range(n_iterations):\n",
    "    ants = np.random.choice(n_ants, size=n_ants, replace=True)\n",
    "    solutions = []\n",
    "    for ant in ants:\n",
    "        model.set_weights(pheromone)\n",
    "        model.fit(X_train_norm, y_train, epochs=10, verbose=0)\n",
    "        \n",
    "        y_pred = model.predict(X_test_norm)\n",
    "        y_pred = (y_pred > 0.5).astype(int)\n",
    "        accuracy = accuracy_score(y_test, y_pred)\n",
    "        \n",
    "        solutions.append((accuracy, model.get_weights()))\n",
    "    \n",
    "    solutions.sort(reverse=True)\n",
    "    \n",
    "    pheromone *= (1 - rho)\n",
    "    for j in range(len(solutions)):\n",
    "        weights = solutions[j][1]\n",
    "        for k in range(len(weights)):\n",
    "            pheromone[k] += alpha * solutions[j][0] * weights[k]\n",
    "    \n",
    "    model.set_weights(pheromone)\n",
    "\n",
    "y_pred = model.predict(X_test_norm)\n",
    "y_pred = (y_pred > 0.5).astype(int)\n",
    "accuracy = accuracy_score(y_test, y_pred)\n",
    "print(\"Accuracy:\", accuracy)\n"
   ]
  }
 ],
 "metadata": {
  "kernelspec": {
   "display_name": "Python 3 (ipykernel)",
   "language": "python",
   "name": "python3"
  },
  "language_info": {
   "codemirror_mode": {
    "name": "ipython",
    "version": 3
   },
   "file_extension": ".py",
   "mimetype": "text/x-python",
   "name": "python",
   "nbconvert_exporter": "python",
   "pygments_lexer": "ipython3",
   "version": "3.9.15"
  }
 },
 "nbformat": 4,
 "nbformat_minor": 5
}
